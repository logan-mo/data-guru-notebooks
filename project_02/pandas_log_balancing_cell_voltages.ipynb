{
 "cells": [
  {
   "cell_type": "code",
   "execution_count": null,
   "metadata": {},
   "outputs": [],
   "source": [
    "import pandas as pd\n",
    "import numpy as np\n",
    "import time "
   ]
  },
  {
   "cell_type": "code",
   "execution_count": null,
   "metadata": {},
   "outputs": [],
   "source": [
    "import logging\n",
    "LOG_FORMAT = \"%(asctime)s - %(message)s\"\n",
    "logging.basicConfig(level = logging.INFO,\n",
    "                    filename = 'output.log', \n",
    "                    format= LOG_FORMAT,\n",
    "                    filemode = 'a')\n",
    "logger = logging.getLogger('Cell Voltages')"
   ]
  },
  {
   "attachments": {},
   "cell_type": "markdown",
   "metadata": {},
   "source": [
    "# Loading Data"
   ]
  },
  {
   "cell_type": "code",
   "execution_count": null,
   "metadata": {},
   "outputs": [],
   "source": [
    "logs_balancing_cell_voltages = pd.read_csv('log_balancing_cell_voltages copy.csv')\n",
    "logger.info(f\"Loaded {logs_balancing_cell_voltages.shape[0]} rows from log_balancing_cell_voltages.csv\")\n",
    "logs_balancing_cell_voltages.head(5)"
   ]
  },
  {
   "attachments": {},
   "cell_type": "markdown",
   "metadata": {},
   "source": [
    "# Logling Parsing"
   ]
  },
  {
   "cell_type": "code",
   "execution_count": null,
   "metadata": {},
   "outputs": [],
   "source": [
    "def parse_logline(df):\n",
    "    # Extract the logline from the dataframe\n",
    "    logline = df.logline.copy()\n",
    "    \n",
    "    # Extract the cell voltages from the logline\n",
    "    Cellvoltage = (\n",
    "        logline.str.split(' SoC: ', expand=True)[0]\n",
    "        .str.split(': ', expand=True)[1]\n",
    "        .str.findall(r'[0-9]+')\n",
    "    )\n",
    "    Cellvoltage = pd.DataFrame(Cellvoltage.tolist())\n",
    "    logger.info('Extracted Cell Voltages')\n",
    "    \n",
    "    # Change dtype of all columns to float\n",
    "    Cellvoltage         = Cellvoltage.astype(float)\n",
    "    min_voltage         = Cellvoltage.min(axis=1)\n",
    "    max_voltage         = Cellvoltage.max(axis=1)\n",
    "    \n",
    "    # Extract indexes of max voltage occourences in every row\n",
    "    req_indices = np.argwhere(Cellvoltage.values == np.amax(Cellvoltage.values, axis=1).reshape(-1,1))\n",
    "    max_voltage_idx = [0]*len(max_voltage)\n",
    "    for x,y in req_indices:\n",
    "        if max_voltage_idx[x] == 0:\n",
    "            max_voltage_idx[x] = [y]\n",
    "        else:\n",
    "            max_voltage_idx[x].append(y)\n",
    "    \n",
    "    # Extract indexes of min voltage occourences in every \n",
    "    req_indices = np.argwhere(Cellvoltage.values == np.amin(Cellvoltage.values, axis=1).reshape(-1,1))\n",
    "    min_voltage_idx = [0]*len(min_voltage)\n",
    "    for x,y in req_indices:\n",
    "        if min_voltage_idx[x] == 0:\n",
    "            min_voltage_idx[x] = [y]\n",
    "        else:\n",
    "            min_voltage_idx[x].append(y)\n",
    "    \n",
    "    Cellvoltage['min_voltage']      = min_voltage\n",
    "    Cellvoltage['max_voltage']      = max_voltage\n",
    "    \n",
    "    # Adding min_index and max_index columns to the dataframe after converting them to strings because pyarrow doesn't support lists\n",
    "    Cellvoltage['min_voltage_idx']  = pd.Series(min_voltage_idx).apply(np.array)\n",
    "    #Cellvoltage['min_voltage_idx']  = Cellvoltage['min_voltage_idx'].astype(str) \n",
    "    Cellvoltage['max_voltage_idx']  = pd.Series(max_voltage_idx).apply(np.array)\n",
    "    #Cellvoltage['max_voltage_idx']  = Cellvoltage['max_voltage_idx'].astype(str)\n",
    "    logger.info('Extracted max, min Voltages and respective indices')\n",
    "    \n",
    "    Cellvoltage.columns = ['s'+ str(i) for i in range(1, 15)] + ['min_voltage', 'max_voltage', 'min_voltage_idx', 'max_voltage_idx']\n",
    "    \n",
    "    # Extract the balancing information from the logline\n",
    "    Balancing = (\n",
    "        logline.str.split(' SoC: ', expand=True)[0]\n",
    "        .str.split(': ', expand=True)[1]\n",
    "        .str.replace(r'\\[[0-9]+\\]', '', regex=True)\n",
    "        .str.slice(1,-1)\n",
    "        .str.replace('] [', ',', regex=False)\n",
    "        .str.replace('X', '1', regex=False)\n",
    "        .str.replace(' ', '0', regex=False)\n",
    "        .str.split(',', expand=True)\n",
    "    )\n",
    "    Balancing.replace('1', True)\n",
    "    Balancing.replace('0', False)\n",
    "    Balancing.columns = ['s'+ str(i) + '_B' for i in range(1, 15)]\n",
    "    logger.info('Extracted Balancing Info')\n",
    "    \n",
    "    # Extract the metrics from the logline\n",
    "    metric_split = (\n",
    "        logline.str.split('SoC: ', expand=True)[1]\n",
    "        .str.replace('% Current: ', ',', case=False, regex=True)\n",
    "        .str.replace('A Limit: ', ',', case=False, regex=True)\n",
    "        .str.replace('A/', ',', case=False, regex=True)\n",
    "        .str.replace('A Temp: ', ',', case=False, regex=True)\n",
    "        .str.replace('C Voltage: ', ',', case=False, regex=True)\n",
    "        .str.replace('V', '', case=False, regex=True)\n",
    "        .str.split(',', expand=True)\n",
    "    )\n",
    "    metric_split.columns=['Soc', 'Current', 'lower_current_limit', 'upper_current_limit', 'Temp', 'Voltage']\n",
    "    logger.info('Extracted Metrics (e.g. SoC, Current, etc)')\n",
    "    \n",
    "    # Split the temperature into lower and upper limits\n",
    "    temperature_split = metric_split['Temp'].str.split('-', expand=True)\n",
    "    temperature_split.columns = ['lower_temp', 'upper_temp']\n",
    "\n",
    "    return pd.concat([df.drop(columns=['logline']), metric_split.drop(columns='Temp'), temperature_split, Cellvoltage,  Balancing], axis=1) \n",
    "    "
   ]
  },
  {
   "cell_type": "code",
   "execution_count": null,
   "metadata": {},
   "outputs": [],
   "source": [
    "import time \n",
    "\n",
    "start = time.time()\n",
    "logs_balancing_cell_voltages = parse_logline(logs_balancing_cell_voltages.copy())\n",
    "logger.info(f'Data Successfully Parsed in {time.time() - start}s')\n",
    "print(f'Data Successfully Parsed in {time.time() - start}s')"
   ]
  },
  {
   "attachments": {},
   "cell_type": "markdown",
   "metadata": {},
   "source": [
    "# Save Processed Data"
   ]
  },
  {
   "cell_type": "code",
   "execution_count": null,
   "metadata": {},
   "outputs": [],
   "source": [
    "try:\n",
    "    # If the parquet file already exists, load it and append the new data\n",
    "    previous_table = pd.read_parquet('processed_voltage_data.parquet')\n",
    "    logs_balancing_cell_voltages = pd.concat([previous_table, logs_balancing_cell_voltages], axis=0)\n",
    "    logger.info('processed_voltage_data.parquet already exists. Appending the new data into the file')\n",
    "except FileNotFoundError as e:\n",
    "    # Otherwise save the new dat|a to a new parquet file\n",
    "    logger.info('processed_voltage_data.parquet does not exist. Creating.')\n",
    "    pass\n",
    "logs_balancing_cell_voltages.to_parquet('processed_voltage_data.parquet', index=False)"
   ]
  },
  {
   "cell_type": "code",
   "execution_count": null,
   "metadata": {},
   "outputs": [],
   "source": [
    "logger.info('Data Successfully saved as processed_voltage_data.parquet \\n')"
   ]
  },
  {
   "cell_type": "code",
   "execution_count": null,
   "metadata": {},
   "outputs": [],
   "source": [
    "print(\"Execution Successful! Logs are saved in output.log\")"
   ]
  },
  {
   "attachments": {},
   "cell_type": "markdown",
   "metadata": {},
   "source": [
    "# View Delta Table"
   ]
  },
  {
   "cell_type": "code",
   "execution_count": null,
   "metadata": {},
   "outputs": [],
   "source": [
    "pd.read_parquet('processed_voltage_data.parquet')"
   ]
  }
 ],
 "metadata": {
  "kernelspec": {
   "display_name": "Python 3",
   "language": "python",
   "name": "python3"
  },
  "language_info": {
   "codemirror_mode": {
    "name": "ipython",
    "version": 3
   },
   "file_extension": ".py",
   "mimetype": "text/x-python",
   "name": "python",
   "nbconvert_exporter": "python",
   "pygments_lexer": "ipython3",
   "version": "3.10.7 (tags/v3.10.7:6cc6b13, Sep  5 2022, 14:08:36) [MSC v.1933 64 bit (AMD64)]"
  },
  "orig_nbformat": 4,
  "vscode": {
   "interpreter": {
    "hash": "c2c4311082e7ecaf27cbc2e1450596c6acfefcaffbda68aa46f0091b6f136047"
   }
  }
 },
 "nbformat": 4,
 "nbformat_minor": 2
}
